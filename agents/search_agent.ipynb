{
 "cells": [
  {
   "cell_type": "markdown",
   "id": "365b7bde",
   "metadata": {},
   "source": [
    "# Step 1: Import the Libraries"
   ]
  },
  {
   "cell_type": "code",
   "execution_count": 1,
   "id": "e9f8b188",
   "metadata": {},
   "outputs": [],
   "source": [
    "import requests\n",
    "import xml.etree.ElementTree as ET"
   ]
  },
  {
   "cell_type": "code",
   "execution_count": null,
   "id": "80120210",
   "metadata": {},
   "outputs": [],
   "source": [
    "arxiv_API = \"http://export.arxiv.org/api/query?\"\n",
    "\n",
    "# set parameters for the API request\n",
    "# search_query: The query string to search for papers\n",
    "def search_arxiv(query, max_results=5):\n",
    "    params = {\n",
    "        \"search_query\": query,\n",
    "        \"start\": 0,\n",
    "        \"max_results\": max_results,\n",
    "        \"sortBy\": \"relevance\",\n",
    "        \"sortOrder\": \"descending\"\n",
    "    }\n",
    "    response = requests.get(arxiv_API, params=params)\n",
    "    if response.status_code != 200:\n",
    "        raise Exception(\"Failed to Fetch Data from API\")\n",
    "    \n",
    "    # parse the XML response\n",
    "    root = ET.fromstring(response.content)\n",
    "    namespace = {'n' : 'http://www.w3.org/2005/Atom'}\n",
    "    papers = []\n",
    "\n",
    "    # extract relevant information from the XML\n",
    "    for entry in root.findall('n:entry',namespace):\n",
    "        paper = {\n",
    "            'title' : entry.find('n:title',namespace).text.strip(),\n",
    "            'Published' : entry.find('n:published',namespace).text.strip(),\n",
    "            'link' : entry.find('n:id',namespace).text.strip(),\n",
    "            'summary' : entry.find('n:summary',namespace).text.strip()\n",
    "        }\n",
    "        papers.append(paper)\n",
    "\n",
    "    return papers\n",
    "\n"
   ]
  },
  {
   "cell_type": "code",
   "execution_count": null,
   "id": "b55abdd1",
   "metadata": {},
   "outputs": [
    {
     "name": "stdout",
     "output_type": "stream",
     "text": [
      "\n",
      "[1] An Exploration of Post-Editing Effectiveness in Text Summarization\n",
      "Published: 2022-06-13T18:00:02Z\n",
      "Link: http://arxiv.org/abs/2206.06383v1\n",
      "Summary: Automatic summarization methods are efficient but can suffer from low\n",
      "quality. In comparison, manual summarization is expensive but produces higher\n",
      "quality. Can humans and AI collaborate to improve summarization performance? In\n",
      "similar text generation tasks (e.g., machine translation), human-AI\n",
      "coll\n",
      "\n",
      "[2] A Brief Survey of Associations Between Meta-Learning and General AI\n",
      "Published: 2021-01-12T03:57:16Z\n",
      "Link: http://arxiv.org/abs/2101.04283v1\n",
      "Summary: This paper briefly reviews the history of meta-learning and describes its\n",
      "contribution to general AI. Meta-learning improves model generalization\n",
      "capacity and devises general algorithms applicable to both in-distribution and\n",
      "out-of-distribution tasks potentially. General AI replaces task-specific mo\n",
      "\n",
      "[3] The Current State of Summarization\n",
      "Published: 2023-05-08T17:00:49Z\n",
      "Link: http://arxiv.org/abs/2305.04853v2\n",
      "Summary: With the explosive growth of textual information, summarization systems have\n",
      "become increasingly important. This work aims to concisely indicate the current\n",
      "state of the art in abstractive text summarization. As part of this, we outline\n",
      "the current paradigm shifts towards pre-trained encoder-decoder\n"
     ]
    }
   ],
   "source": [
    "# Example usage of the search_arxiv function\n",
    "papers = search_arxiv(\"AI summarization\", max_results=3)\n",
    "for i, paper in enumerate(papers, 1):\n",
    "    print(f\"\\n[{i}] {paper['title']}\")\n",
    "    print(f\"Published: {paper['Published']}\")\n",
    "    print(f\"Link: {paper['link']}\")\n",
    "    print(f\"Summary: {paper['summary'][:300]}\")  # Display first 300 characters of summary\n",
    "          "
   ]
  },
  {
   "cell_type": "code",
   "execution_count": null,
   "id": "3b09f76c",
   "metadata": {},
   "outputs": [],
   "source": []
  }
 ],
 "metadata": {
  "kernelspec": {
   "display_name": "venv",
   "language": "python",
   "name": "python3"
  },
  "language_info": {
   "codemirror_mode": {
    "name": "ipython",
    "version": 3
   },
   "file_extension": ".py",
   "mimetype": "text/x-python",
   "name": "python",
   "nbconvert_exporter": "python",
   "pygments_lexer": "ipython3",
   "version": "3.10.9"
  }
 },
 "nbformat": 4,
 "nbformat_minor": 5
}
