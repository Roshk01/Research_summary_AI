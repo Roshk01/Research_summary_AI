{
 "cells": [
  {
   "cell_type": "markdown",
   "id": "e9391ade",
   "metadata": {},
   "source": [
    "# Check for Search agent API"
   ]
  },
  {
   "cell_type": "code",
   "execution_count": 24,
   "id": "5023550c",
   "metadata": {},
   "outputs": [],
   "source": [
    "from agents.search_agent import search_arxiv"
   ]
  },
  {
   "cell_type": "code",
   "execution_count": 25,
   "id": "5a2358b8",
   "metadata": {},
   "outputs": [
    {
     "name": "stdout",
     "output_type": "stream",
     "text": [
      "\n",
      "[1] An Exploration of Post-Editing Effectiveness in Text Summarization\n",
      "Published: 2022-06-13T18:00:02Z\n",
      "Link: http://arxiv.org/abs/2206.06383v1\n",
      "Summary: Automatic summarization methods are efficient but can suffer from low\n",
      "quality. In comparison, manual summarization is expensive but produces higher\n",
      "quality. Can humans and AI collaborate to improve summarization performance? In\n",
      "similar text generation tasks (e.g., machine translation), human-AI\n",
      "coll\n",
      "\n",
      "[2] A Brief Survey of Associations Between Meta-Learning and General AI\n",
      "Published: 2021-01-12T03:57:16Z\n",
      "Link: http://arxiv.org/abs/2101.04283v1\n",
      "Summary: This paper briefly reviews the history of meta-learning and describes its\n",
      "contribution to general AI. Meta-learning improves model generalization\n",
      "capacity and devises general algorithms applicable to both in-distribution and\n",
      "out-of-distribution tasks potentially. General AI replaces task-specific mo\n",
      "\n",
      "[3] The Current State of Summarization\n",
      "Published: 2023-05-08T17:00:49Z\n",
      "Link: http://arxiv.org/abs/2305.04853v2\n",
      "Summary: With the explosive growth of textual information, summarization systems have\n",
      "become increasingly important. This work aims to concisely indicate the current\n",
      "state of the art in abstractive text summarization. As part of this, we outline\n",
      "the current paradigm shifts towards pre-trained encoder-decoder\n",
      "\n",
      "[4] Mapping the Design Space of Human-AI Interaction in Text Summarization\n",
      "Published: 2022-06-29T19:03:25Z\n",
      "Link: http://arxiv.org/abs/2206.14863v1\n",
      "Summary: Automatic text summarization systems commonly involve humans for preparing\n",
      "data or evaluating model performance, yet, there lacks a systematic\n",
      "understanding of humans' roles, experience, and needs when interacting with or\n",
      "being assisted by AI. From a human-centered perspective, we map the design\n",
      "opp\n"
     ]
    }
   ],
   "source": [
    "# Example usage of the search_arxiv function\n",
    "papers = search_arxiv(\"AI summarization\", max_results=4)\n",
    "for i, paper in enumerate(papers, 1):\n",
    "    print(f\"\\n[{i}] {paper['title']}\")\n",
    "    print(f\"Published: {paper['Published']}\")\n",
    "    print(f\"Link: {paper['link']}\")\n",
    "    print(f\"Summary: {paper['summary'][:300]}\")  # Display first 300 characters of summary\n",
    "          "
   ]
  },
  {
   "cell_type": "markdown",
   "id": "af44e36f",
   "metadata": {},
   "source": [
    "# Test the PDF upload and text extraction"
   ]
  },
  {
   "cell_type": "code",
   "execution_count": 27,
   "id": "0877c140",
   "metadata": {},
   "outputs": [
    {
     "ename": "ImportError",
     "evalue": "cannot import name 'extract_text_from_pdf' from 'agents.preprocess_agent' (c:\\Users\\Aman\\machine_learning_projects\\Research_paper_summary_AI\\agents\\preprocess_agent.py)",
     "output_type": "error",
     "traceback": [
      "\u001b[1;31m---------------------------------------------------------------------------\u001b[0m",
      "\u001b[1;31mImportError\u001b[0m                               Traceback (most recent call last)",
      "Cell \u001b[1;32mIn[27], line 1\u001b[0m\n\u001b[1;32m----> 1\u001b[0m \u001b[38;5;28;01mfrom\u001b[39;00m \u001b[38;5;21;01magents\u001b[39;00m\u001b[38;5;21;01m.\u001b[39;00m\u001b[38;5;21;01mpreprocess_agent\u001b[39;00m \u001b[38;5;28;01mimport\u001b[39;00m extract_text_from_pdf\n",
      "\u001b[1;31mImportError\u001b[0m: cannot import name 'extract_text_from_pdf' from 'agents.preprocess_agent' (c:\\Users\\Aman\\machine_learning_projects\\Research_paper_summary_AI\\agents\\preprocess_agent.py)"
     ]
    }
   ],
   "source": [
    "from agents.preprocess_agent import extract_text_from_pdf"
   ]
  },
  {
   "cell_type": "code",
   "execution_count": null,
   "id": "becb8a68",
   "metadata": {},
   "outputs": [],
   "source": []
  }
 ],
 "metadata": {
  "kernelspec": {
   "display_name": "base",
   "language": "python",
   "name": "python3"
  },
  "language_info": {
   "codemirror_mode": {
    "name": "ipython",
    "version": 3
   },
   "file_extension": ".py",
   "mimetype": "text/x-python",
   "name": "python",
   "nbconvert_exporter": "python",
   "pygments_lexer": "ipython3",
   "version": "3.10.9"
  }
 },
 "nbformat": 4,
 "nbformat_minor": 5
}
